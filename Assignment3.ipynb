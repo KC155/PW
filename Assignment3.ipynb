{
 "cells": [
  {
   "cell_type": "markdown",
   "id": "5874c4d6-ed95-47f2-ba66-1d8f4e233df6",
   "metadata": {
    "jp-MarkdownHeadingCollapsed": true,
    "tags": []
   },
   "source": [
    "# Q1. Which keyword is used to create a function? Create a function to return a list of odd numbers in the range of 1 to 25."
   ]
  },
  {
   "cell_type": "markdown",
   "id": "f599ab0c-bdbf-4ade-b399-ce052e17ae59",
   "metadata": {},
   "source": [
    "Keyword \"def\" is use to creat functions "
   ]
  },
  {
   "cell_type": "code",
   "execution_count": 51,
   "id": "12c558dc-8f48-4a37-b4c9-09704e50d61f",
   "metadata": {},
   "outputs": [],
   "source": [
    "def test():\n",
    "    a = []\n",
    "    for i in range(1,26):\n",
    "        if i % 2  != 0:\n",
    "            a.append(i)\n",
    "    return a"
   ]
  },
  {
   "cell_type": "code",
   "execution_count": 53,
   "id": "e1a03083-00df-43cd-997a-14741afde3d9",
   "metadata": {},
   "outputs": [
    {
     "data": {
      "text/plain": [
       "[1, 3, 5, 7, 9, 11, 13, 15, 17, 19, 21, 23, 25]"
      ]
     },
     "execution_count": 53,
     "metadata": {},
     "output_type": "execute_result"
    }
   ],
   "source": [
    "test()"
   ]
  },
  {
   "cell_type": "markdown",
   "id": "94bba7a5-36e5-4c4c-9dc4-0f927152030c",
   "metadata": {
    "jp-MarkdownHeadingCollapsed": true,
    "tags": []
   },
   "source": [
    "# Q2. Why *args and **kwargs is used in some functions? Create a function each for *args and **kwargs to demonstrate their use."
   ]
  },
  {
   "cell_type": "markdown",
   "id": "6f6f06a4-a99f-408a-9a2f-b7a6cea71592",
   "metadata": {},
   "source": [
    "(**)means n number of argument you an pass in a function (args is not keyword)\n",
    "\n",
    "( ** )means n number of argument you an pass in a function in form of dictionary (kwargs is not keyword"
   ]
  },
  {
   "cell_type": "code",
   "execution_count": 5,
   "id": "b00db22d-3cb2-4722-8c09-7c915bf8f21b",
   "metadata": {},
   "outputs": [],
   "source": [
    "def test(*args):\n",
    "    for i in args:\n",
    "        print(i)"
   ]
  },
  {
   "cell_type": "code",
   "execution_count": 6,
   "id": "f4f31676-edbd-4973-acc0-db95e3708748",
   "metadata": {},
   "outputs": [
    {
     "name": "stdout",
     "output_type": "stream",
     "text": [
      "1\n",
      "2\n",
      "3\n",
      "4\n",
      "5\n"
     ]
    }
   ],
   "source": [
    "test(1,2,3,4,5)"
   ]
  },
  {
   "cell_type": "code",
   "execution_count": 16,
   "id": "77caeffb-8576-4fb2-b815-97066c7eda76",
   "metadata": {},
   "outputs": [],
   "source": [
    "def test2(**kwargs):\n",
    "    return(kwargs)"
   ]
  },
  {
   "cell_type": "code",
   "execution_count": 18,
   "id": "afe16185-e80b-42e0-a33b-48fb90dd8a8b",
   "metadata": {},
   "outputs": [
    {
     "data": {
      "text/plain": [
       "{'Name': 'Karan', 'Age': 21, 'City': 'Virar'}"
      ]
     },
     "execution_count": 18,
     "metadata": {},
     "output_type": "execute_result"
    }
   ],
   "source": [
    "test2(Name=\"Karan\", Age=21, City=\"Virar\")"
   ]
  },
  {
   "cell_type": "markdown",
   "id": "7212c377-a976-4a6b-9e87-5d5482380a1c",
   "metadata": {
    "jp-MarkdownHeadingCollapsed": true,
    "tags": []
   },
   "source": [
    "# Q3. What is an iterator in python? Name the method used to initialise the iterator object and the method used for iteration. Use these methods to print the first five elements of the given list [2, 4, 6, 8, 10, 12, 14, 16, 18, 20]."
   ]
  },
  {
   "cell_type": "markdown",
   "id": "556bea65-01e4-4f2f-8ecb-043f851652a7",
   "metadata": {},
   "source": [
    "An iterator is that that type of data which helps in geting next data of variable and it can use by the __iter__() and __next__() methods."
   ]
  },
  {
   "cell_type": "code",
   "execution_count": 30,
   "id": "789874b4-1861-4f40-bb22-9e9642354f05",
   "metadata": {},
   "outputs": [
    {
     "name": "stdout",
     "output_type": "stream",
     "text": [
      "2\n",
      "4\n",
      "6\n",
      "8\n",
      "10\n"
     ]
    }
   ],
   "source": [
    "my_list = [2,4,6,8,10,12,14,16,18,20]\n",
    "a = iter(my_list)\n",
    "for i in range(5):\n",
    "    print(next(a))"
   ]
  },
  {
   "cell_type": "markdown",
   "id": "54c2f26e-9ff4-4169-aeef-a40e426628b8",
   "metadata": {
    "jp-MarkdownHeadingCollapsed": true,
    "tags": []
   },
   "source": [
    "# Q4. What is a generator function in python? Why yield keyword is used? Give an example of a generator function."
   ]
  },
  {
   "cell_type": "markdown",
   "id": "46975068-e96c-464f-9575-11c1d6db96f7",
   "metadata": {},
   "source": [
    "Generator is a function which keep genereating outcome without holding everything in a memory\n",
    "keyword yield is a special funcion which help in creating generator function and to show the data "
   ]
  },
  {
   "cell_type": "code",
   "execution_count": 51,
   "id": "b1bbbfb1-6b9d-4342-bc4d-14b09c8fb987",
   "metadata": {},
   "outputs": [],
   "source": [
    "def test(n):\n",
    "    a = 1\n",
    "    for i in range(n):\n",
    "        yield i**2"
   ]
  },
  {
   "cell_type": "code",
   "execution_count": 52,
   "id": "3ad4fad3-1454-4c91-b8a2-cf654eb6be97",
   "metadata": {},
   "outputs": [
    {
     "name": "stdout",
     "output_type": "stream",
     "text": [
      "0\n",
      "1\n",
      "4\n",
      "9\n",
      "16\n",
      "25\n",
      "36\n",
      "49\n",
      "64\n",
      "81\n"
     ]
    }
   ],
   "source": [
    "for i in test(10):\n",
    "    print(i)"
   ]
  },
  {
   "cell_type": "markdown",
   "id": "93f761bb-4a4c-4f96-891c-1323142e5880",
   "metadata": {
    "jp-MarkdownHeadingCollapsed": true,
    "tags": []
   },
   "source": [
    "# Q5. Create a generator function for prime numbers less than 1000. Use the next() method to print the first 20 prime numbers."
   ]
  },
  {
   "cell_type": "code",
   "execution_count": 18,
   "id": "1a7cec0e-e5f5-4dfd-b281-08a1917a0b76",
   "metadata": {},
   "outputs": [
    {
     "name": "stdout",
     "output_type": "stream",
     "text": [
      "2\n",
      "3\n",
      "5\n",
      "7\n",
      "11\n",
      "13\n",
      "17\n",
      "19\n",
      "23\n",
      "29\n",
      "31\n",
      "37\n",
      "41\n",
      "43\n",
      "47\n",
      "53\n",
      "59\n",
      "61\n",
      "67\n",
      "71\n"
     ]
    }
   ],
   "source": [
    "def test():\n",
    "    a = []\n",
    "    b = 2\n",
    "    while True:\n",
    "        if all(b % p != 0 for p in a):\n",
    "            a.append (b)\n",
    "            yield b\n",
    "        b += 1\n",
    "prime_generator = test()\n",
    "for i in range(20):\n",
    "    p = next(prime_generator)\n",
    "    print (p)"
   ]
  },
  {
   "cell_type": "markdown",
   "id": "b5657fb7-0476-4e37-8db5-60970bc2bd60",
   "metadata": {
    "jp-MarkdownHeadingCollapsed": true,
    "tags": []
   },
   "source": [
    "# Q6. Write a python program to print the first 10 Fibonacci numbers using a while loop."
   ]
  },
  {
   "cell_type": "code",
   "execution_count": 31,
   "id": "e0fff42b-aa83-4b74-8dfd-e1fe48adcf93",
   "metadata": {},
   "outputs": [],
   "source": [
    "def test_fib(n):\n",
    "    a,b = 0,1\n",
    "    for i in range(n):\n",
    "        yield a\n",
    "        a,b = b, a+b"
   ]
  },
  {
   "cell_type": "code",
   "execution_count": 32,
   "id": "36ac9690-d5ee-40e2-b253-a7e853185df4",
   "metadata": {},
   "outputs": [
    {
     "name": "stdout",
     "output_type": "stream",
     "text": [
      "0\n",
      "1\n",
      "1\n",
      "2\n",
      "3\n",
      "5\n",
      "8\n",
      "13\n",
      "21\n",
      "34\n"
     ]
    }
   ],
   "source": [
    "for i in test_fib(10):\n",
    "    print(i)"
   ]
  },
  {
   "cell_type": "markdown",
   "id": "1303bc0c-cb3f-40ea-b62e-f1a91488adbe",
   "metadata": {
    "jp-MarkdownHeadingCollapsed": true,
    "tags": []
   },
   "source": [
    "# Q7 Write a List Comprehension to iterate through the given string: ‘pwskills’. Expected output: ['p', 'w', 's', 'k', 'i', 'l', 'l', 's']"
   ]
  },
  {
   "cell_type": "code",
   "execution_count": 36,
   "id": "9b2c68e0-f374-47fb-9736-d6353691d5ee",
   "metadata": {},
   "outputs": [
    {
     "data": {
      "text/plain": [
       "['P', 'w', 's', 'k', 'i', 'l', 'l', 's']"
      ]
     },
     "execution_count": 36,
     "metadata": {},
     "output_type": "execute_result"
    }
   ],
   "source": [
    "s = \"Pwskills\"\n",
    "list(s)"
   ]
  },
  {
   "cell_type": "markdown",
   "id": "2511424b-2d14-43f1-99c9-1d8ca13c6748",
   "metadata": {
    "tags": []
   },
   "source": [
    "# Q8. Write a python program to check whether a given number is Palindrome or not using a while loop."
   ]
  },
  {
   "cell_type": "code",
   "execution_count": 57,
   "id": "f00f945b-5cc1-409a-a49c-92986aad9d0a",
   "metadata": {},
   "outputs": [
    {
     "name": "stdin",
     "output_type": "stream",
     "text": [
      "Enter a number:  515\n"
     ]
    },
    {
     "name": "stdout",
     "output_type": "stream",
     "text": [
      "515 is a palindrome.\n"
     ]
    }
   ],
   "source": [
    "def test(n):\n",
    "    a = n\n",
    "    v = 0\n",
    "    \n",
    "    while n > 0:\n",
    "        d = n % 10\n",
    "        v = v * 10 + d\n",
    "        n //= 10\n",
    "\n",
    "    if a == v:\n",
    "        return True\n",
    "    else:\n",
    "        return False\n",
    "    \n",
    "n = int(input(\"Enter a number: \"))\n",
    "if test(n):\n",
    "    print(n, \"is a palindrome.\")\n",
    "else:\n",
    "    print(n, \"is not a palindrome.\")"
   ]
  },
  {
   "cell_type": "markdown",
   "id": "7d46e17b-09aa-45a9-b3e1-0928e62f362f",
   "metadata": {},
   "source": [
    "# Q9. Write a code to print odd numbers from 1 to 100 using list comprehension. Note: Use a list comprehension to create a list from 1 to 100 and use another List comprehension to filter out odd numbers."
   ]
  },
  {
   "cell_type": "code",
   "execution_count": 47,
   "id": "39d85b96-96b1-4985-8830-42a4835e5efd",
   "metadata": {},
   "outputs": [],
   "source": [
    "def test():\n",
    "    a = []\n",
    "    for i in range(1,101):\n",
    "        if i % 2 != 0:\n",
    "            a.append(i)\n",
    "    return(a)"
   ]
  },
  {
   "cell_type": "code",
   "execution_count": null,
   "id": "cb732857-7c1a-420d-97b8-7e7d4d486cc2",
   "metadata": {},
   "outputs": [
    {
     "name": "stdout",
     "output_type": "stream",
     "text": [
      "[1, 3, 5, 7, 9, 11, 13, 15, 17, 19, 21, 23, 25, 27, 29, 31, 33, 35, 37, 39, 41, 43, 45, 47, 49, 51, 53, 55, 57, 59, 61, 63, 65, 67, 69, 71, 73, 75, 77, 79, 81, 83, 85, 87, 89, 91, 93, 95, 97, 99]\n"
     ]
    }
   ],
   "source": [
    "a = test()\n",
    "print(a)"
   ]
  },
  {
   "cell_type": "code",
   "execution_count": null,
   "id": "e72aa154-0e23-4c88-9f0c-51be54a16540",
   "metadata": {},
   "outputs": [],
   "source": []
  }
 ],
 "metadata": {
  "kernelspec": {
   "display_name": "Python 3 (ipykernel)",
   "language": "python",
   "name": "python3"
  },
  "language_info": {
   "codemirror_mode": {
    "name": "ipython",
    "version": 3
   },
   "file_extension": ".py",
   "mimetype": "text/x-python",
   "name": "python",
   "nbconvert_exporter": "python",
   "pygments_lexer": "ipython3",
   "version": "3.10.8"
  }
 },
 "nbformat": 4,
 "nbformat_minor": 5
}
