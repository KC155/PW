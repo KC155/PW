{
 "cells": [
  {
   "cell_type": "markdown",
   "id": "e75a89d3-71e9-47d4-ae07-6b0ecbfc0be9",
   "metadata": {
    "jp-MarkdownHeadingCollapsed": true,
    "tags": []
   },
   "source": [
    "# Q1. How do you comment code in Python? What are the different types of comments?"
   ]
  },
  {
   "cell_type": "markdown",
   "id": "b69b12c2-b520-4f55-bbdf-495b259d9241",
   "metadata": {},
   "source": [
    "You can add comments to your code to provide explanations, clarify the functionality, or make notes. Comments are ignored by the Python interpreter and are not executed as part of the program."
   ]
  },
  {
   "cell_type": "markdown",
   "id": "06dca988-5fc5-4218-b2d4-b07bda4d8bf5",
   "metadata": {},
   "source": [
    "General there are 2 type of Comment\n",
    "\n",
    "1). Single-Line Comments:\n",
    "    Single-line comments are used to comment on a single line of code. In Python, you can add a single-line comment by using the hash symbol (#) at the beginning of the line. Everything after the hash symbol on that line is considered a comment."
   ]
  },
  {
   "cell_type": "markdown",
   "id": "63ee8d16-019b-46bb-804d-3ac1d8145162",
   "metadata": {},
   "source": [
    "2).Multi-Line Comments:\n",
    "    Multi-line comments, also known as block comments, allow you to comment on multiple lines of code. In Python, there is no specific syntax for multi-line comments like some other programming languages. However, you can use multi-line strings enclosed in triple quotes (\"\"\" or ''') as a workaround to achieve multi-line comments. These strings are not assigned to any variable and are effectively ignored by the interpreter."
   ]
  },
  {
   "cell_type": "markdown",
   "id": "c261f93d-dc0b-43bc-8d13-9d03e589234e",
   "metadata": {
    "jp-MarkdownHeadingCollapsed": true,
    "tags": []
   },
   "source": [
    "# Q2. What are variables in Python? How do you declare and assign values to variables?"
   ]
  },
  {
   "cell_type": "markdown",
   "id": "691304f3-144d-4b06-977b-d8279ef8b873",
   "metadata": {},
   "source": [
    "Variables are used to store and manipulate data. A variable is a name that refers to a value stored in the computer's memory. Variables can hold different types of data, such as numbers, strings, lists, or more complex objects. To declare and assign values to variables in Python, you simply need to use the assignment operator (=)."
   ]
  },
  {
   "cell_type": "markdown",
   "id": "3d92bda7-de29-4291-b317-312a18331fba",
   "metadata": {
    "jp-MarkdownHeadingCollapsed": true,
    "tags": []
   },
   "source": [
    "# Q3. How do you convert one data type to another in Python?"
   ]
  },
  {
   "cell_type": "markdown",
   "id": "6a96cdf2-dc5d-445a-9170-235efbd63fc8",
   "metadata": {},
   "source": [
    "You can convert one data type to another using type conversion functions Python provides built-in functions for converting between different data types."
   ]
  },
  {
   "cell_type": "markdown",
   "id": "2cc19a7a-dd27-4a1c-913b-17ae09a688d4",
   "metadata": {},
   "source": [
    "Eg:-"
   ]
  },
  {
   "cell_type": "code",
   "execution_count": 2,
   "id": "d74a35f6-747d-48b5-b536-553d4060647f",
   "metadata": {},
   "outputs": [
    {
     "data": {
      "text/plain": [
       "100.0"
      ]
     },
     "execution_count": 2,
     "metadata": {},
     "output_type": "execute_result"
    }
   ],
   "source": [
    "# int to float\n",
    "a = 100\n",
    "float(a)"
   ]
  },
  {
   "cell_type": "code",
   "execution_count": 4,
   "id": "ed3da370-db5d-4b2a-a283-43a2d0b52540",
   "metadata": {},
   "outputs": [
    {
     "data": {
      "text/plain": [
       "102"
      ]
     },
     "execution_count": 4,
     "metadata": {},
     "output_type": "execute_result"
    }
   ],
   "source": [
    "# float to int \n",
    "b = 102.5\n",
    "int(b)"
   ]
  },
  {
   "cell_type": "code",
   "execution_count": 5,
   "id": "28d0314b-aeb8-47d9-b0ff-4ad73cebafc1",
   "metadata": {},
   "outputs": [
    {
     "data": {
      "text/plain": [
       "['H', 'e', 'l', 'l', 'o', ' ', 'W', 'o', 'r', 'l', 'd']"
      ]
     },
     "execution_count": 5,
     "metadata": {},
     "output_type": "execute_result"
    }
   ],
   "source": [
    "# str to list\n",
    "c = \"Hello World\"\n",
    "list(c)"
   ]
  },
  {
   "cell_type": "code",
   "execution_count": 7,
   "id": "7e0267c5-8efc-45c4-8ead-69fe826124a7",
   "metadata": {},
   "outputs": [
    {
     "data": {
      "text/plain": [
       "True"
      ]
     },
     "execution_count": 7,
     "metadata": {},
     "output_type": "execute_result"
    }
   ],
   "source": [
    "# int to bool\n",
    "d = 10\n",
    "bool(d)"
   ]
  },
  {
   "cell_type": "code",
   "execution_count": 10,
   "id": "f5fdad36-e90e-4399-b0f6-8807871c84a5",
   "metadata": {},
   "outputs": [
    {
     "data": {
      "text/plain": [
       "'[1, 2, 3, 4, 5, 6, 7, 8, 9, 10]'"
      ]
     },
     "execution_count": 10,
     "metadata": {},
     "output_type": "execute_result"
    }
   ],
   "source": [
    "# list to str\n",
    "e = [1,2,3,4,5,6,7,8,9,10]\n",
    "str(e)"
   ]
  },
  {
   "cell_type": "markdown",
   "id": "55a1e4a4-ba27-4f37-abf2-c51cf8e1b457",
   "metadata": {
    "jp-MarkdownHeadingCollapsed": true,
    "tags": []
   },
   "source": [
    "# Q4 How do you write and execute a Python script from the command line?"
   ]
  },
  {
   "cell_type": "markdown",
   "id": "4cd56c9d-e20f-46b7-b193-5b55c3a31663",
   "metadata": {
    "tags": []
   },
   "source": [
    "Ans:- Ans:- open any text editour write python codes  following the correct syntax and indentation rules then save as '.py' file. Then use proper terminal to exiquite code"
   ]
  },
  {
   "cell_type": "markdown",
   "id": "c3b95185-95dc-411e-9fa7-4217f4731383",
   "metadata": {
    "jp-MarkdownHeadingCollapsed": true,
    "tags": []
   },
   "source": [
    "# Q5 Given a list my_list = [1, 2, 3, 4, 5], write the code to slice the list and obtain the sub-list [2, 3]."
   ]
  },
  {
   "cell_type": "code",
   "execution_count": 3,
   "id": "55b390ba-6faf-40c5-8a56-06cdd6d050a4",
   "metadata": {},
   "outputs": [
    {
     "name": "stdout",
     "output_type": "stream",
     "text": [
      "[2, 3]\n"
     ]
    }
   ],
   "source": [
    "my_list = [1,2,3,4,5]\n",
    "sub_list = my_list[1:3]\n",
    "print(sub_list)"
   ]
  },
  {
   "cell_type": "markdown",
   "id": "959b35fb-db8c-40b2-b9c1-b51c6c2d0456",
   "metadata": {
    "jp-MarkdownHeadingCollapsed": true,
    "tags": []
   },
   "source": [
    "# Q6. What is a complex number in mathematics, and how is it represented in Python?"
   ]
  },
  {
   "cell_type": "markdown",
   "id": "7c0383a1-6c4f-43e7-9a27-5b2b3075823e",
   "metadata": {},
   "source": [
    "A complex number is a number that comprises a real part and an imaginary part. It is written in the form a + bi, where a is the real part, b is the imaginary part, and i represents the imaginary unit\n",
    "Eg:-"
   ]
  },
  {
   "cell_type": "code",
   "execution_count": 6,
   "id": "0b6f0516-629c-4733-95e9-603d5f087ca1",
   "metadata": {},
   "outputs": [],
   "source": [
    "z = 30 + 4j"
   ]
  },
  {
   "cell_type": "markdown",
   "id": "0d838b0c-fcf3-459b-a1dd-423d2ec6d8d6",
   "metadata": {},
   "source": [
    "where 30 is a real part 4 is imaginary part and j ia imaginary unit instade of 'i'"
   ]
  },
  {
   "cell_type": "markdown",
   "id": "3009cb97-e0b1-446a-b8e1-5f30fbea99a3",
   "metadata": {
    "jp-MarkdownHeadingCollapsed": true,
    "tags": []
   },
   "source": [
    "# Q7. What is the correct way to declare a variable named age and assign the value 25 to it?"
   ]
  },
  {
   "cell_type": "code",
   "execution_count": 3,
   "id": "47e569e8-873b-474d-911e-02f4ef9edc77",
   "metadata": {},
   "outputs": [],
   "source": [
    "age = 25"
   ]
  },
  {
   "cell_type": "markdown",
   "id": "7b3d00bf-bafc-4691-9974-3ba9794ae519",
   "metadata": {
    "jp-MarkdownHeadingCollapsed": true,
    "tags": []
   },
   "source": [
    "# Q8. Declare a variable named price and assign the value 9.99 to it. What data type does this variable belong to?"
   ]
  },
  {
   "cell_type": "code",
   "execution_count": 4,
   "id": "0e00daae-0212-4047-920b-9e220571e209",
   "metadata": {},
   "outputs": [
    {
     "name": "stdout",
     "output_type": "stream",
     "text": [
      "<class 'float'>\n"
     ]
    }
   ],
   "source": [
    "price = 9.99\n",
    "print(type(price))"
   ]
  },
  {
   "cell_type": "markdown",
   "id": "6acb3e9c-864b-4ce3-925c-61518bed0310",
   "metadata": {
    "jp-MarkdownHeadingCollapsed": true,
    "tags": []
   },
   "source": [
    "# Q9. Create a variable named name and assign your full name to it as a string. How would you print the value of this variable?"
   ]
  },
  {
   "cell_type": "code",
   "execution_count": 6,
   "id": "f70d7bc9-bc2a-4625-9736-67f9ad8f7029",
   "metadata": {},
   "outputs": [
    {
     "name": "stdout",
     "output_type": "stream",
     "text": [
      "Karan Chhadwa\n"
     ]
    }
   ],
   "source": [
    "name = \"Karan Chhadwa\"\n",
    "print (name)"
   ]
  },
  {
   "cell_type": "markdown",
   "id": "25ba3625-6517-4504-9fb1-9e4ff5f19aa1",
   "metadata": {
    "jp-MarkdownHeadingCollapsed": true,
    "tags": []
   },
   "source": [
    "# Q10. Given the string \"Hello, World!\", extract the substring \"World\"."
   ]
  },
  {
   "cell_type": "code",
   "execution_count": 8,
   "id": "1c2b3754-0e90-4633-939c-9ab136d60dc3",
   "metadata": {},
   "outputs": [
    {
     "data": {
      "text/plain": [
       "'world'"
      ]
     },
     "execution_count": 8,
     "metadata": {},
     "output_type": "execute_result"
    }
   ],
   "source": [
    "h =\"Hello world\"\n",
    "h[6:11]"
   ]
  },
  {
   "cell_type": "code",
   "execution_count": null,
   "id": "f486157b-7489-4db9-8f10-bb8b48c42b7b",
   "metadata": {},
   "outputs": [],
   "source": []
  }
 ],
 "metadata": {
  "kernelspec": {
   "display_name": "Python 3 (ipykernel)",
   "language": "python",
   "name": "python3"
  },
  "language_info": {
   "codemirror_mode": {
    "name": "ipython",
    "version": 3
   },
   "file_extension": ".py",
   "mimetype": "text/x-python",
   "name": "python",
   "nbconvert_exporter": "python",
   "pygments_lexer": "ipython3",
   "version": "3.10.8"
  }
 },
 "nbformat": 4,
 "nbformat_minor": 5
}
