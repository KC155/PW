{
 "cells": [
  {
   "cell_type": "markdown",
   "id": "537be35a-4709-4d69-80c3-bf7bd5b15c0b",
   "metadata": {},
   "source": [
    "# Q1. Create a python program to sort the given list of tuples based on integer value using a lambda function."
   ]
  },
  {
   "cell_type": "code",
   "execution_count": 1,
   "id": "cf3c0bcd-0031-48e4-be16-947c254d9a48",
   "metadata": {},
   "outputs": [
    {
     "name": "stdout",
     "output_type": "stream",
     "text": [
      "[34357, 27483, 25534, 24936]\n"
     ]
    }
   ],
   "source": [
    "a = [\n",
    "    ('Sachin Tendulkar', 34357),\n",
    "    ('Ricky Ponting', 27483),\n",
    "    ('Jack Kallis', 25534),\n",
    "    ('Virat Kohli', 24936)\n",
    "]\n",
    "\n",
    "b = list(map(lambda x: x[1], a))\n",
    "\n",
    "print(b)\n"
   ]
  },
  {
   "cell_type": "markdown",
   "id": "16fa979a-c5ad-4680-aae7-ec0a2fc4de97",
   "metadata": {},
   "source": [
    "# Q2. Write a Python Program to find the squares of all the numbers in the given list of integers using lambda and map functions. [1, 2, 3, 4, 5, 6, 7, 8, 9, 10]"
   ]
  },
  {
   "cell_type": "code",
   "execution_count": 3,
   "id": "30507f06-8b54-48e1-9080-94fa3dfbd0a4",
   "metadata": {},
   "outputs": [
    {
     "name": "stdout",
     "output_type": "stream",
     "text": [
      "[1, 4, 9, 16, 25, 36, 49, 64, 81, 100]\n"
     ]
    }
   ],
   "source": [
    "n = [1, 2, 3, 4, 5, 6, 7, 8, 9, 10]\n",
    "\n",
    "sq = list(map(lambda x: x**2, n))\n",
    "\n",
    "print(sq)"
   ]
  },
  {
   "cell_type": "markdown",
   "id": "f5059a13-6cc6-45a0-b3d6-b2b3addbb195",
   "metadata": {},
   "source": [
    "# Q3. Write a python program to convert the given list of integers into a tuple of strings. Use map and lambda functions Given String: [1, 2, 3, 4, 5, 6, 7, 8, 9, 10] Expected output: ('1', '2', '3', '4', '5', '6', '7', '8', '9', '10')"
   ]
  },
  {
   "cell_type": "code",
   "execution_count": 3,
   "id": "c2b4644b-511a-4814-b9c1-58c949a2e9f8",
   "metadata": {},
   "outputs": [
    {
     "name": "stdout",
     "output_type": "stream",
     "text": [
      "('1', '2', '3', '4', '5', '6', '7', '8', '9', '10')\n"
     ]
    }
   ],
   "source": [
    "n = [1, 2, 3, 4, 5, 6, 7, 8, 9, 10]\n",
    "\n",
    "st = tuple(map(lambda x: str(x), n))\n",
    "\n",
    "print(st)"
   ]
  },
  {
   "cell_type": "markdown",
   "id": "bb98a42f-aaf5-4ba1-8def-a95da9eb9dc8",
   "metadata": {},
   "source": [
    "# Q4. Write a python program using reduce function to compute the product of a list containing numbers from 1 to 25."
   ]
  },
  {
   "cell_type": "code",
   "execution_count": 6,
   "id": "63ea7040-5d72-4b8f-af3d-886d129403d9",
   "metadata": {},
   "outputs": [
    {
     "name": "stdout",
     "output_type": "stream",
     "text": [
      "Product: 15511210043330985984000000\n"
     ]
    }
   ],
   "source": [
    "from functools import reduce\n",
    "n = list(range(1, 26))\n",
    "p = reduce(lambda x, y: x * y, n)\n",
    "print(\"Product:\", p)"
   ]
  },
  {
   "cell_type": "markdown",
   "id": "a7e5a856-acc9-4dc8-9005-1bced3e3347f",
   "metadata": {},
   "source": [
    "# Q5. Write a python program to filter the numbers in a given list that are divisible by 2 and 3 using the filter function. [2, 3, 6, 9, 27, 60, 90, 120, 55, 46]"
   ]
  },
  {
   "cell_type": "code",
   "execution_count": 7,
   "id": "91f9b682-59d9-4618-a254-940d51f0567e",
   "metadata": {},
   "outputs": [
    {
     "name": "stdout",
     "output_type": "stream",
     "text": [
      "Numbers divisible by 2 and 3: [12, 24, 30, 60, 72, 90]\n"
     ]
    }
   ],
   "source": [
    "n = [12, 15, 24, 30, 45, 50, 60, 72, 90]\n",
    "\n",
    "d = list(filter(lambda x: x % 2 == 0 and x % 3 == 0, n))\n",
    "\n",
    "print(\"Numbers divisible by 2 and 3:\", d)"
   ]
  },
  {
   "cell_type": "markdown",
   "id": "51d2b814-a48d-443b-9af4-176f4cdc1eec",
   "metadata": {},
   "source": [
    "# Q6. Write a python program to find palindromes in the given list of strings using lambda and filter function.\n",
    "['python', 'php', 'aba', 'radar', 'level']"
   ]
  },
  {
   "cell_type": "code",
   "execution_count": 8,
   "id": "85f01015-3d93-45fb-8936-b128fb1adcd9",
   "metadata": {},
   "outputs": [
    {
     "name": "stdout",
     "output_type": "stream",
     "text": [
      "Palindromes: ['php', 'aba', 'radar', 'level']\n"
     ]
    }
   ],
   "source": [
    "w = ['python', 'php', 'aba', 'radar', 'level']\n",
    "\n",
    "s = lambda w: w == w[::-1]\n",
    "\n",
    "p = list(filter(s, w))\n",
    "\n",
    "print(\"Palindromes:\", p)"
   ]
  },
  {
   "cell_type": "code",
   "execution_count": null,
   "id": "c08cb3bf-aabd-4fa4-896a-b474589432bb",
   "metadata": {},
   "outputs": [],
   "source": []
  }
 ],
 "metadata": {
  "kernelspec": {
   "display_name": "Python 3 (ipykernel)",
   "language": "python",
   "name": "python3"
  },
  "language_info": {
   "codemirror_mode": {
    "name": "ipython",
    "version": 3
   },
   "file_extension": ".py",
   "mimetype": "text/x-python",
   "name": "python",
   "nbconvert_exporter": "python",
   "pygments_lexer": "ipython3",
   "version": "3.10.8"
  }
 },
 "nbformat": 4,
 "nbformat_minor": 5
}
