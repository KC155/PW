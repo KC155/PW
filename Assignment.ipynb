{
 "cells": [
  {
   "cell_type": "markdown",
   "id": "041ca7fb-b640-40b0-ae4a-e014f5457f23",
   "metadata": {
    "jp-MarkdownHeadingCollapsed": true,
    "tags": []
   },
   "source": [
    "# Q1. Create one variable containing following type of data:"
   ]
  },
  {
   "cell_type": "code",
   "execution_count": 1,
   "id": "7366a6c6-37e2-4f43-827b-83615cd9baf2",
   "metadata": {},
   "outputs": [],
   "source": [
    "# string"
   ]
  },
  {
   "cell_type": "code",
   "execution_count": null,
   "id": "5d032b6d-e52f-455f-8f89-d2bd1fd52f44",
   "metadata": {},
   "outputs": [],
   "source": [
    "A = \"Karan\""
   ]
  },
  {
   "cell_type": "code",
   "execution_count": 3,
   "id": "c81b38c4-769f-4f3f-a025-02f99836e688",
   "metadata": {},
   "outputs": [],
   "source": [
    "# List "
   ]
  },
  {
   "cell_type": "code",
   "execution_count": 4,
   "id": "995cb445-72be-403e-904d-97d9d38e01bc",
   "metadata": {},
   "outputs": [],
   "source": [
    "B = [123,123.5,'Yash']"
   ]
  },
  {
   "cell_type": "code",
   "execution_count": 5,
   "id": "a53d96f9-11bb-40ba-9c41-aa319283d82d",
   "metadata": {},
   "outputs": [],
   "source": [
    "# Float"
   ]
  },
  {
   "cell_type": "code",
   "execution_count": 6,
   "id": "266f346f-cbe5-4b82-9a6c-dda88184baeb",
   "metadata": {},
   "outputs": [],
   "source": [
    "C = 123456.321654"
   ]
  },
  {
   "cell_type": "code",
   "execution_count": 7,
   "id": "2e28b694-fa7b-4ba4-bab9-8a0b7580e581",
   "metadata": {},
   "outputs": [],
   "source": [
    "# Tuple"
   ]
  },
  {
   "cell_type": "code",
   "execution_count": 11,
   "id": "586920aa-687d-4a3e-b0b5-bbdd6c95b370",
   "metadata": {},
   "outputs": [],
   "source": [
    "D = (1,2,'Three',4.5)"
   ]
  },
  {
   "cell_type": "markdown",
   "id": "63fce9ad-a468-49c7-afe3-dd642fa03b44",
   "metadata": {
    "jp-MarkdownHeadingCollapsed": true,
    "tags": []
   },
   "source": [
    "# Q2. Given are some following variables containing data:"
   ]
  },
  {
   "cell_type": "code",
   "execution_count": 17,
   "id": "0c4785c2-6b9a-4943-bed3-81c8e8279a7c",
   "metadata": {},
   "outputs": [],
   "source": [
    "var1 = ' '"
   ]
  },
  {
   "cell_type": "code",
   "execution_count": 18,
   "id": "54a0467b-e71d-47e8-9d06-2a678bd92c35",
   "metadata": {},
   "outputs": [],
   "source": [
    "var2 = '[ DS , ML , Python]'"
   ]
  },
  {
   "cell_type": "code",
   "execution_count": 19,
   "id": "b4d93b46-f1f0-4a4c-9a17-67352c965ad4",
   "metadata": {},
   "outputs": [],
   "source": [
    "var3 = ['DS','ML','Python']"
   ]
  },
  {
   "cell_type": "code",
   "execution_count": 20,
   "id": "f24a58c6-b91f-4fea-a25b-99bc68e2b47c",
   "metadata": {},
   "outputs": [],
   "source": [
    "var4 = 1"
   ]
  },
  {
   "cell_type": "code",
   "execution_count": 21,
   "id": "de3797c6-f058-4450-83c0-8e399320a533",
   "metadata": {},
   "outputs": [
    {
     "data": {
      "text/plain": [
       "str"
      ]
     },
     "execution_count": 21,
     "metadata": {},
     "output_type": "execute_result"
    }
   ],
   "source": [
    "type(var1)"
   ]
  },
  {
   "cell_type": "code",
   "execution_count": 22,
   "id": "f3e114e0-8216-4ed6-a635-53fb97bd941d",
   "metadata": {},
   "outputs": [
    {
     "data": {
      "text/plain": [
       "str"
      ]
     },
     "execution_count": 22,
     "metadata": {},
     "output_type": "execute_result"
    }
   ],
   "source": [
    "type(var2)"
   ]
  },
  {
   "cell_type": "code",
   "execution_count": 23,
   "id": "2e2987a6-a650-4e4c-a12d-43a858ec1e7c",
   "metadata": {},
   "outputs": [
    {
     "data": {
      "text/plain": [
       "list"
      ]
     },
     "execution_count": 23,
     "metadata": {},
     "output_type": "execute_result"
    }
   ],
   "source": [
    "type(var3)"
   ]
  },
  {
   "cell_type": "code",
   "execution_count": 25,
   "id": "712e0523-b123-4a11-bf65-32d36b298d1f",
   "metadata": {},
   "outputs": [
    {
     "data": {
      "text/plain": [
       "int"
      ]
     },
     "execution_count": 25,
     "metadata": {},
     "output_type": "execute_result"
    }
   ],
   "source": [
    "type(var4)"
   ]
  },
  {
   "cell_type": "markdown",
   "id": "aa8f8776-1dcf-4721-ac26-d11382b81605",
   "metadata": {
    "jp-MarkdownHeadingCollapsed": true,
    "tags": []
   },
   "source": [
    "# Q3. Explain the use of the following operators using an example:"
   ]
  },
  {
   "cell_type": "markdown",
   "id": "c423c708-8ac1-4380-ab4c-f2ce8b588aac",
   "metadata": {
    "tags": []
   },
   "source": [
    "/ & //\n",
    "Ans:- The \"/\" operator is used for division, and it returns the quotient as a floating-point number. \n",
    "If you want to perform integer division, you can use the \"//\" operator."
   ]
  },
  {
   "cell_type": "markdown",
   "id": "c4fe8cc0-0d27-4f60-a46b-e125307d74cb",
   "metadata": {},
   "source": [
    "%\n",
    "Ans:-The \"%\" operator is the modulo operator, used to calculate the remainder of a division operation. It can be useful for checking divisibility, wrapping indices, and creating repeated patterns."
   ]
  },
  {
   "cell_type": "markdown",
   "id": "fa1b4bff-1cb7-40f9-b1e6-37379a7314e3",
   "metadata": {},
   "source": [
    "**\n",
    "Ans:- The \"**\" operator is used for exponentiation. It raises a number to a specified power and can work with both integer and floating-point numbers. \n",
    "It can also be used with variables, expressions, and even complex numbers."
   ]
  },
  {
   "cell_type": "markdown",
   "id": "56864e25-86e7-430c-aee3-4e75d1ac3669",
   "metadata": {
    "jp-MarkdownHeadingCollapsed": true,
    "tags": []
   },
   "source": [
    "# Q4. Create a list of length 10 of your choice containing multiple types of data. Using for loop print the element and its data type."
   ]
  },
  {
   "cell_type": "code",
   "execution_count": null,
   "id": "9b9915a9-af9b-403f-8825-43edae03b641",
   "metadata": {},
   "outputs": [],
   "source": [
    "L = [1,2,3,\"Four\",5.5,6,\"Seven\",8,\"9.21\",\"TEN\"]\n",
    "for element in L:\n",
    "    print(element, type(element))"
   ]
  },
  {
   "cell_type": "markdown",
   "id": "1ac50f58-a247-46f9-88c8-9d9f5425a2c2",
   "metadata": {
    "jp-MarkdownHeadingCollapsed": true,
    "tags": []
   },
   "source": [
    "# Q5. Using a while loop, verify if the number A is purely divisible by number B and if so then how many times it can be divisible."
   ]
  },
  {
   "cell_type": "code",
   "execution_count": 19,
   "id": "0182a66b-338b-4275-8393-9c2d40629303",
   "metadata": {},
   "outputs": [
    {
     "name": "stdout",
     "output_type": "stream",
     "text": [
      "Number of divisions is 1\n"
     ]
    }
   ],
   "source": [
    "a = 100\n",
    "b = 25\n",
    "c = 0\n",
    "while a % b == 0:\n",
    "    a = a // b\n",
    "    c += 1\n",
    "\n",
    "print (\"Number of divisions is\",c)"
   ]
  },
  {
   "cell_type": "markdown",
   "id": "61a18810-8662-475f-a368-5ec8b8042d97",
   "metadata": {
    "jp-MarkdownHeadingCollapsed": true,
    "tags": []
   },
   "source": [
    "# Q6. Create a list containing 25 int type data. Using for loop and if-else condition print if the element is divisible by 3 or not."
   ]
  },
  {
   "cell_type": "code",
   "execution_count": 2,
   "id": "cad30b5b-26a7-48b0-8835-f680deaf6214",
   "metadata": {},
   "outputs": [
    {
     "name": "stdout",
     "output_type": "stream",
     "text": [
      "0 Yes it is divisible by 3\n",
      "1 No its not divisible by 3\n",
      "2 No its not divisible by 3\n",
      "3 Yes it is divisible by 3\n",
      "4 No its not divisible by 3\n",
      "5 No its not divisible by 3\n",
      "6 Yes it is divisible by 3\n",
      "7 No its not divisible by 3\n",
      "8 No its not divisible by 3\n",
      "9 Yes it is divisible by 3\n",
      "10 No its not divisible by 3\n",
      "11 No its not divisible by 3\n",
      "12 Yes it is divisible by 3\n",
      "13 No its not divisible by 3\n",
      "14 No its not divisible by 3\n",
      "15 Yes it is divisible by 3\n",
      "16 No its not divisible by 3\n",
      "17 No its not divisible by 3\n",
      "18 Yes it is divisible by 3\n",
      "19 No its not divisible by 3\n",
      "20 No its not divisible by 3\n",
      "21 Yes it is divisible by 3\n",
      "22 No its not divisible by 3\n",
      "23 No its not divisible by 3\n",
      "24 Yes it is divisible by 3\n",
      "25 No its not divisible by 3\n"
     ]
    }
   ],
   "source": [
    "a = 0\n",
    "while a < 26 :\n",
    "    if a % 3 == 0:\n",
    "        print (a,\"Yes it is divisible by 3\")\n",
    "    else:\n",
    "        print (a,\"No its not divisible by 3\")\n",
    "    a = a + 1"
   ]
  },
  {
   "cell_type": "markdown",
   "id": "58e27eac-c7d0-494d-88fe-60c8172ce51d",
   "metadata": {
    "jp-MarkdownHeadingCollapsed": true,
    "tags": []
   },
   "source": [
    "# Q7. What do you understand about mutable and immutable data types? Give examples for both showing this property."
   ]
  },
  {
   "cell_type": "markdown",
   "id": "4bceb7c0-5697-4668-aa6f-3ea28847894a",
   "metadata": {},
   "source": [
    "Mutable data type :- \n",
    "Data types whch can be modified after they are created that are called Mutable data types. Further, if we want to add some adiional data in that particular them we and do changes\n",
    "For eg:-"
   ]
  },
  {
   "cell_type": "code",
   "execution_count": 34,
   "id": "8186dcb7-e27e-4639-bb7c-e4e6621e86d0",
   "metadata": {},
   "outputs": [
    {
     "name": "stdout",
     "output_type": "stream",
     "text": [
      "[1, 2, 3, 4.5, 'six']\n"
     ]
    }
   ],
   "source": [
    "L = [1,2,3,4.5,\"six\"]\n",
    "print(L)"
   ]
  },
  {
   "cell_type": "code",
   "execution_count": 35,
   "id": "4eaece81-03eb-4c14-bcf2-4a90d346e32f",
   "metadata": {},
   "outputs": [
    {
     "name": "stdout",
     "output_type": "stream",
     "text": [
      "[1, 2, 3, 4.5, 'six', 7]\n"
     ]
    }
   ],
   "source": [
    "L.append(7)\n",
    "print(L)"
   ]
  }
 ],
 "metadata": {
  "kernelspec": {
   "display_name": "Python 3 (ipykernel)",
   "language": "python",
   "name": "python3"
  },
  "language_info": {
   "codemirror_mode": {
    "name": "ipython",
    "version": 3
   },
   "file_extension": ".py",
   "mimetype": "text/x-python",
   "name": "python",
   "nbconvert_exporter": "python",
   "pygments_lexer": "ipython3",
   "version": "3.10.8"
  }
 },
 "nbformat": 4,
 "nbformat_minor": 5
}
